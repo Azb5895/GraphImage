{
  "nbformat": 4,
  "nbformat_minor": 0,
  "metadata": {
    "colab": {
      "name": "Copy of TeamProjectVisualization 2.ipynb",
      "provenance": [],
      "include_colab_link": true
    },
    "kernelspec": {
      "name": "python3",
      "display_name": "Python 3"
    }
  },
  "cells": [
    {
      "cell_type": "markdown",
      "metadata": {
        "id": "view-in-github",
        "colab_type": "text"
      },
      "source": [
        "<a href=\"https://colab.research.google.com/github/Azb5895/GraphImage/blob/master/Copy_of_TeamProjectVisualization_2.ipynb\" target=\"_parent\"><img src=\"https://colab.research.google.com/assets/colab-badge.svg\" alt=\"Open In Colab\"/></a>"
      ]
    },
    {
      "cell_type": "markdown",
      "metadata": {
        "id": "Kw5PZBtl0Ob6",
        "colab_type": "text"
      },
      "source": [
        "# Final Project"
      ]
    },
    {
      "cell_type": "markdown",
      "metadata": {
        "id": "iXWAmSVB0Rno",
        "colab_type": "text"
      },
      "source": [
        "Contributors:\n",
        "\n",
        "\n",
        "*   Alyssa Boord\n",
        "*   Katelyn Sullivan \n",
        "*   Matthew Tipton\n",
        "\n",
        "\n"
      ]
    },
    {
      "cell_type": "markdown",
      "metadata": {
        "id": "WpaW-i5l0ZHn",
        "colab_type": "text"
      },
      "source": [
        "## Background"
      ]
    },
    {
      "cell_type": "markdown",
      "metadata": {
        "id": "E4VKsOvP0eev",
        "colab_type": "text"
      },
      "source": [
        "  COVID-19 is spreading like wildfire throughout the United States. This is a virus that attacks the respiratory system. The virus's official name is SARS-CoV-2 and the name it is known by is “Coronavirus Disease 2019” or “COVID-19”. The World Health Organization declared this an outbreak on January 30, 2020 and only a day later the Health and Human Services Secretary declared this outbreak as a public health emergency for the United States. In March, the World Health Organization stated that the Coronavirus is a pandemic. This type of virus comes from a set of viruses that have a commonality in animals and humans, with the origin coming from bats. Most states have already closed down their public education systems and replaced them with remote learning. Some states are even banning the travel between states. Many restaurants and small businesses are suffering as people shouldn’t be in contact with others. The unemployment rate passed 20% with around 4.4 million people losing their jobs. This virus has already infected around 1 million people and killed around 55,000. There are 47,000 cases in California and around 19,000 in Los Angeles county alone. This exhibits that many counties are hit much harder than others and that cities or areas with higher population are hit the hardest. Understanding this outbreak is very important and this shows the magnitude and impact that this virus is having on the United States. By tracking and comparing data for suspected and confirmed cases can lead to more testing and more relief for counties that are in desperate need.\n"
      ]
    },
    {
      "cell_type": "markdown",
      "metadata": {
        "id": "7d8vfcGufV0_",
        "colab_type": "text"
      },
      "source": [
        "### Goal"
      ]
    },
    {
      "cell_type": "markdown",
      "metadata": {
        "id": "e1jKSGTjfY2H",
        "colab_type": "text"
      },
      "source": [
        " The goal of our case study is to comprehend which areas have been affected the most by tracking and comparing both suspected and  confirmed cases by state and by county. \n"
      ]
    },
    {
      "cell_type": "markdown",
      "metadata": {
        "id": "GOxy_TvCfi54",
        "colab_type": "text"
      },
      "source": [
        "### Assumptions"
      ]
    },
    {
      "cell_type": "markdown",
      "metadata": {
        "id": "cw1v_1MMfnAR",
        "colab_type": "text"
      },
      "source": [
        "\n",
        "*   1. Counties with higher populations will have a higher amount of confirmed and suspected cases.\n",
        "*   2. Counties that have more suspected cases should have more total confirmed cases.\n",
        "*   3. The amount of ICU suspect patients directly relates to the number of ICU confirmed cases.\n",
        "*   4. Counties with higher poverty rates should have higher confirmed and suspected cases.\n",
        "*   5. The tests that are given are accurate at finding the COVID-19 virus.\n",
        "*   6. Counties in the same state should have similar amounts of confirmed cases.\n",
        "*   7. Suspected cases will always be higher than confirmed cases.\n",
        "*   8. Most counties have similar testing abilities.\n",
        "*   9. Counties that have more people currently employed should have a higher count of confirmed and suspected cases.\n",
        "*   10. No counties are falsely reporting confirmed and suspected cases.\n",
        "\n",
        "\n",
        "\n"
      ]
    },
    {
      "cell_type": "markdown",
      "metadata": {
        "id": "P3K1MkjzkKnF",
        "colab_type": "text"
      },
      "source": [
        "Links \n",
        "\n",
        "\n",
        "*   COVID-19 United States Cases by County. (n.d.). Retrieved from https://coronavirus.jhu.edu/us-map\n",
        "*   (n.d.). Retrieved from https://www.aapmr.org/news-publications/covid-19/covid-19-background-information\n",
        "\n"
      ]
    },
    {
      "cell_type": "markdown",
      "metadata": {
        "id": "jKGILpu7gWr6",
        "colab_type": "text"
      },
      "source": [
        "### Data Sources"
      ]
    },
    {
      "cell_type": "markdown",
      "metadata": {
        "id": "uwCao7AtgbNn",
        "colab_type": "text"
      },
      "source": [
        "The data sources that are used for this project are the data set Provisional Covid19 Death Count in the United States by County which has been provided by the CDC and the data set Covid19 Cases which is provided by the California Health and Human Services Open Data Portal. An inner join was used in order to join these sources together by using the category Most Recent Date in the Covid19 Cases data and the category Date as of in the Provisional Covid19 Death Count in the United States by County data. This allows us to compare the accuracy of each of these models due to each data set having records of California’s counties cases of deaths caused by Covid19. Once the accuracy of these models was confirmed with matching case numbers for the number of deaths our group created two graphs to measure confirmed and suspected cases. The first graph shows deaths by county from any potential state up to the most recent date April 21, 2020. There is a filter on this graph that removes any county that has lower than 600 deaths allowing for the data shown in the graph to be more manageable. The second graph shows patients that were positive for Covid19 and suspected Covid19 positive patients by each county and state. When each of these graphs are moved to the dashboard a user can hover over a county in the Deaths by County graph and it will highlight the corresponding county listed on the Suspected and positive Cases by State graph so that a user can compare the deaths in these counties with the number of confirmed and suspected patients in that state. "
      ]
    },
    {
      "cell_type": "markdown",
      "metadata": {
        "id": "kDgSdoQUgg2Z",
        "colab_type": "text"
      },
      "source": [
        "#### Sources"
      ]
    },
    {
      "cell_type": "markdown",
      "metadata": {
        "id": "dFzYIi0Agi2_",
        "colab_type": "text"
      },
      "source": [
        "Data Source 1: Provisional Covid19 Death Counts in the United States by County Provided by CDC https://catalog.data.gov/dataset/provisional-covid-19-death-counts-in-the-united-states-by-county"
      ]
    },
    {
      "cell_type": "markdown",
      "metadata": {
        "id": "6pDcZpPsLsDU",
        "colab_type": "text"
      },
      "source": [
        "Data Source 2: Covid19 Cases Provided by California Health and Human Services Open Data https://data.chhs.ca.gov/dataset/california-covid-19-hospital-data-and-case-statistics/resource/6cd8d424-dfaa-4bdd-9410-a3d656e1176e"
      ]
    },
    {
      "cell_type": "markdown",
      "metadata": {
        "id": "qcFak2v7g3jt",
        "colab_type": "text"
      },
      "source": [
        "## Dashboard (5)"
      ]
    },
    {
      "cell_type": "code",
      "metadata": {
        "id": "knG79vNP0Q0u",
        "colab_type": "code",
        "outputId": "609222f5-1dfd-460b-8752-0574c9e6760b",
        "colab": {
          "base_uri": "https://localhost:8080/",
          "height": 844
        }
      },
      "source": [
        "import IPython\n",
        "IPython.display.HTML(\"x\")\n",
        "IPython.display.HTML(\"<div class='tableauPlaceholder' id='viz1588031519612' style='position: relative'><noscript><a href='#'><img alt=' ' src='https:&#47;&#47;public.tableau.com&#47;static&#47;images&#47;Gr&#47;Graph1finalproject&#47;Dashboard1&#47;1_rss.png' style='border: none' /></a></noscript><object class='tableauViz'  style='display:none;'><param name='host_url' value='https%3A%2F%2Fpublic.tableau.com%2F' /> <param name='embed_code_version' value='3' /> <param name='site_root' value='' /><param name='name' value='Graph1finalproject&#47;Dashboard1' /><param name='tabs' value='no' /><param name='toolbar' value='yes' /><param name='static_image' value='https:&#47;&#47;public.tableau.com&#47;static&#47;images&#47;Gr&#47;Graph1finalproject&#47;Dashboard1&#47;1.png' /> <param name='animate_transition' value='yes' /><param name='display_static_image' value='yes' /><param name='display_spinner' value='yes' /><param name='display_overlay' value='yes' /><param name='display_count' value='yes' /></object></div>                <script type='text/javascript'>                    var divElement = document.getElementById('viz1588031519612');                    var vizElement = divElement.getElementsByTagName('object')[0];                    if ( divElement.offsetWidth > 800 ) { vizElement.style.width='1000px';vizElement.style.height='827px';} else if ( divElement.offsetWidth > 500 ) { vizElement.style.width='1000px';vizElement.style.height='827px';} else { vizElement.style.width='100%';vizElement.style.height='727px';}                     var scriptElement = document.createElement('script');                    scriptElement.src = 'https://public.tableau.com/javascripts/api/viz_v1.js';                    vizElement.parentNode.insertBefore(scriptElement, vizElement);                </script>\") # can't find image "
      ],
      "execution_count": 0,
      "outputs": [
        {
          "output_type": "execute_result",
          "data": {
            "text/html": [
              "<div class='tableauPlaceholder' id='viz1588031519612' style='position: relative'><noscript><a href='#'><img alt=' ' src='https:&#47;&#47;public.tableau.com&#47;static&#47;images&#47;Gr&#47;Graph1finalproject&#47;Dashboard1&#47;1_rss.png' style='border: none' /></a></noscript><object class='tableauViz'  style='display:none;'><param name='host_url' value='https%3A%2F%2Fpublic.tableau.com%2F' /> <param name='embed_code_version' value='3' /> <param name='site_root' value='' /><param name='name' value='Graph1finalproject&#47;Dashboard1' /><param name='tabs' value='no' /><param name='toolbar' value='yes' /><param name='static_image' value='https:&#47;&#47;public.tableau.com&#47;static&#47;images&#47;Gr&#47;Graph1finalproject&#47;Dashboard1&#47;1.png' /> <param name='animate_transition' value='yes' /><param name='display_static_image' value='yes' /><param name='display_spinner' value='yes' /><param name='display_overlay' value='yes' /><param name='display_count' value='yes' /></object></div>                <script type='text/javascript'>                    var divElement = document.getElementById('viz1588031519612');                    var vizElement = divElement.getElementsByTagName('object')[0];                    if ( divElement.offsetWidth > 800 ) { vizElement.style.width='1000px';vizElement.style.height='827px';} else if ( divElement.offsetWidth > 500 ) { vizElement.style.width='1000px';vizElement.style.height='827px';} else { vizElement.style.width='100%';vizElement.style.height='727px';}                     var scriptElement = document.createElement('script');                    scriptElement.src = 'https://public.tableau.com/javascripts/api/viz_v1.js';                    vizElement.parentNode.insertBefore(scriptElement, vizElement);                </script>"
            ],
            "text/plain": [
              "<IPython.core.display.HTML object>"
            ]
          },
          "metadata": {
            "tags": []
          },
          "execution_count": 1
        }
      ]
    },
    {
      "cell_type": "markdown",
      "metadata": {
        "id": "SvWfnlDjnos1",
        "colab_type": "text"
      },
      "source": [
        "## Conclusion"
      ]
    },
    {
      "cell_type": "markdown",
      "metadata": {
        "id": "rfWefr2gnxOG",
        "colab_type": "text"
      },
      "source": [
        "From our data we can observe that more densely populated counties, such as the ones containing and surrounding New York City and LA, seem to have some of the highest numbers of cases and suspected cases, which is in line with our assumption that counties with higher populations have higher numbers of confirmed and suspected cases. Along with this, we can also discern that the number of deaths by county, the number of COVID-19 positive cases, and the number of COVID-19 suspected cases are all more or less proportional to one another. We can also see that the state of New York has the highest number of confirmed COVID-19 patients out of any state with COVID-19 cases in the United States. This is due to the fact that the top nine counties listed in the Deaths by County graph are located in New York until Bergen county, which has the 10th highest number of deaths and is located in New Jersey (which is in very close proximity to New York). We can see a pattern in this data where the three states with the relatively high confirmed cases of COVID-19 and suspected cases are New York, New Jersey, and Pennsylvania. These three states all share borders with each other and most likely experience residents of each state frequently moving across the borders and potentially spreading COVID-19 throughout these areas. We also see spikes in confirmed COVID-19 patients and suspected patients in the states California and Florida. California’s high rate of confirmed and suspected can likely be attributed to its large population centers such as San Francisco and Los Angeles which would allow the virus to spread quickly to a large amount of people as opposed to states such as Iowa or Kansas which have much lower populations as well as less population density making it more difficult for COVID-19 to spread. Florida’s spike of confirmed and suspected COVID-19 patients can likely be attributed to its popularity as a Spring Break destination which was occuring for many universities at the time of the outbreak. We can also see that there is no dramatic increase between an individual state’s confirmed number of COVID-19 patients compared to the state’s suspected number of COVID-19 patients. We see the same pattern throughout the graph for suspected and confirmed cases which shows that states are adequately testing their populations. All in all, the number of cases seems to be proportional to factors such as population, although the counties that contain cities such as Chicago, Philadelphia, Houston, and Phoenix are noticeably much further down the list. This is likely because cities such as New York and Los Angeles are much more densely populated across a smaller chunk of land, which could lead the virus to be spread much faster than it otherwise would. Also, New York and Los Angeles both have a history of very low unemployment rates, meaning more people likely have to go to work and come into contact with others, which could also account for the increase in the COVID-19 spread. \n"
      ]
    },
    {
      "cell_type": "code",
      "metadata": {
        "id": "GiYDwrUYn0k0",
        "colab_type": "code",
        "colab": {}
      },
      "source": [
        ""
      ],
      "execution_count": 0,
      "outputs": []
    }
  ]
}